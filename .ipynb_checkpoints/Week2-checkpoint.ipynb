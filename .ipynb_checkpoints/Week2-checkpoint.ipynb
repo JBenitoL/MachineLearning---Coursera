{
 "cells": [
  {
   "cell_type": "code",
   "execution_count": 1,
   "metadata": {},
   "outputs": [],
   "source": [
    "import numpy as np"
   ]
  },
  {
   "cell_type": "code",
   "execution_count": 2,
   "metadata": {},
   "outputs": [],
   "source": [
    "def costFunction(tetha0, tetha1, x, y):\n",
    "    v = 0\n",
    "    for i in range(len(x)):\n",
    "        v = v + ((tetha0 + tetha1*x[i])-y[i])**2\n",
    "    return v/len(x) \n",
    "\n",
    "def hypothesis(tetha0, tetha1, x1):\n",
    "    return (tetha0+ tetha1*x1)"
   ]
  },
  {
   "cell_type": "code",
   "execution_count": 3,
   "metadata": {},
   "outputs": [
    {
     "name": "stdout",
     "output_type": "stream",
     "text": [
      "4.0\n",
      "1.0\n"
     ]
    }
   ],
   "source": [
    "x = [1, 2, 4, 0]\n",
    "y = [0.5, 1, 2, 0]\n",
    "\n",
    "tetha0 = -2\n",
    "tetha1 = 0.5\n",
    "\n",
    "print(costFunction(tetha0, tetha1, x, y))\n",
    "\n",
    "tetha0 = -1\n",
    "tetha1 = 0.5\n",
    "\n",
    "print(hypothesis(tetha0, tetha1, 4))"
   ]
  },
  {
   "cell_type": "code",
   "execution_count": 12,
   "metadata": {},
   "outputs": [
    {
     "name": "stdout",
     "output_type": "stream",
     "text": [
      "[[ 1.00000000e+00  0.00000000e+00  0.00000000e+00]\n",
      " [-1.11022302e-16  1.00000000e+00 -4.16333634e-17]\n",
      " [ 5.55111512e-17  2.77555756e-17  1.00000000e+00]]\n"
     ]
    }
   ],
   "source": [
    "x = np.array([[1,2,0], [0,5,6], [7,0,9]])\n",
    "\n",
    "invx = np.linalg.inv(x)\n",
    "trans = x.transpose()\n",
    "print(x.dot(invx))"
   ]
  },
  {
   "cell_type": "markdown",
   "metadata": {},
   "source": [
    "u =\\begin{bmatrix} -3 \\\\ 4 \\\\ 3 \\end{bmatrix}\n",
    "and\n",
    "\n",
    "v =\\begin{bmatrix} 3 \\\\ 1 \\\\ 5 \\end{bmatrix}"
   ]
  }
 ],
 "metadata": {
  "kernelspec": {
   "display_name": "Python 3",
   "language": "python",
   "name": "python3"
  },
  "language_info": {
   "codemirror_mode": {
    "name": "ipython",
    "version": 3
   },
   "file_extension": ".py",
   "mimetype": "text/x-python",
   "name": "python",
   "nbconvert_exporter": "python",
   "pygments_lexer": "ipython3",
   "version": "3.7.7"
  }
 },
 "nbformat": 4,
 "nbformat_minor": 4
}
